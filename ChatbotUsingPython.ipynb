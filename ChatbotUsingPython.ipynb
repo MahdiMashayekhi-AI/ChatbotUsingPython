{
 "cells": [
  {
   "cell_type": "markdown",
   "id": "6a163fa3",
   "metadata": {},
   "source": [
    "Created by Mahdi Mashayekhi</br></br>\n",
    "Email : MahdiMashayekhi.ai@gmail.com</br>\n",
    "Github : https://github.com/MahdiMashayekhi-AI</br>\n",
    "Site : http://mahdimashayekhi.gigfa.com</br>\n",
    "YouTube : https://youtube.com/@MahdiMashayekhi</br>\n",
    "Twitter : https://twitter.com/Mashayekhi_AI</br>\n",
    "LinkedIn : https://www.linkedin.com/in/mahdimashayekhi/</br>"
   ]
  },
  {
   "cell_type": "markdown",
   "id": "f31c50dd",
   "metadata": {},
   "source": [
    "A Chatbot is an application that interacts with users like a human. Chatbots are typically used to resolve the most common queries that a business receives from its customers daily. In this article, I’ll walk you through how to create a Chatbot using Python."
   ]
  },
  {
   "cell_type": "code",
   "execution_count": 1,
   "id": "39e08ac2",
   "metadata": {},
   "outputs": [],
   "source": [
    "from nltk.chat.util import Chat, reflections"
   ]
  },
  {
   "cell_type": "code",
   "execution_count": null,
   "id": "bd05f061",
   "metadata": {},
   "outputs": [],
   "source": [
    "pairs = [\n",
    "    [\n",
    "        r\"(.*)my name is (.*)\",\n",
    "        [\"Hello %2, How are you today ?\", ]\n",
    "    ],\n",
    "    [\n",
    "        r\"(.*)help(.*) \",\n",
    "        [\"I can help you \", ]\n",
    "    ],\n",
    "    [\n",
    "        r\"(.*) your name ?\",\n",
    "        [\"My name is Mahdi Mashayekhi, but you can just call me robot and I'm a chatbot .\", ]\n",
    "    ],\n",
    "    [\n",
    "        r\"how are you (.*) ?\",\n",
    "        [\"I'm doing very well\", \"i am great !\"]\n",
    "    ],\n",
    "    [\n",
    "        r\"sorry (.*)\",\n",
    "        [\"Its alright\", \"Its OK, never mind that\", ]\n",
    "    ],\n",
    "    [\n",
    "        r\"i'm (.*) (good|well|okay|ok)\",\n",
    "        [\"Nice to hear that\", \"Alright, great !\", ]\n",
    "    ],\n",
    "    [\n",
    "        r\"(hi|hey|hello|hola|holla)(.*)\",\n",
    "        [\"Hello\", \"Hey there\", ]\n",
    "    ],\n",
    "    [\n",
    "        r\"what (.*) want ?\",\n",
    "        [\"Make me an offer I can't refuse\", ]\n",
    "\n",
    "    ],\n",
    "    [\n",
    "        r\"(.*)created(.*)\",\n",
    "        [\"Mahdi Mashayekhi created me using Python's NLTK library \", \"top secret ;)\", ]\n",
    "    ],\n",
    "    [\n",
    "        r\"(.*) (location|city) ?\",\n",
    "        ['New Tehran, Iran', ]\n",
    "    ],\n",
    "    [\n",
    "        r\"(.*)raining in (.*)\",\n",
    "        [\"No rain in the past 4 days here in %2\",\n",
    "            \"In %2 there is a 50% chance of rain\", ]\n",
    "    ],\n",
    "    [\n",
    "        r\"how (.*) health (.*)\",\n",
    "        [\"Health is very important, but I am a computer, so I don't need to worry about my health \", ]\n",
    "    ],\n",
    "    [\n",
    "        r\"(.*)(sports|game|sport)(.*)\",\n",
    "        [\"I'm a very big fan of Cricket\", ]\n",
    "    ],\n",
    "    [\n",
    "        r\"who (.*) (Cricketer|Batsman)?\",\n",
    "        [\"Virat Kohli\"]\n",
    "    ],\n",
    "    [\n",
    "        r\"quit\",\n",
    "        [\"Bye for now. See you soon :) \",\n",
    "            \"It was nice talking to you. See you soon :)\"]\n",
    "    ],\n",
    "    [\n",
    "        r\"(.*)\",\n",
    "        ['That is nice to hear']\n",
    "    ],\n",
    "]"
   ]
  },
  {
   "cell_type": "code",
   "execution_count": null,
   "id": "52e9e008",
   "metadata": {},
   "outputs": [],
   "source": [
    "# default message at the start of chat\n",
    "print(\"Hi, I'm Mahdi Mashayekhi and I like to chat\\nPlease type lowercase English language to start a conversation. Type quit to leave \")"
   ]
  },
  {
   "cell_type": "code",
   "execution_count": null,
   "id": "2389b622",
   "metadata": {},
   "outputs": [],
   "source": [
    "# Create Chat Bot\n",
    "chat = Chat(pairs, reflections)"
   ]
  },
  {
   "cell_type": "code",
   "execution_count": null,
   "id": "7a9d9279",
   "metadata": {},
   "outputs": [],
   "source": [
    "# Start conversation\n",
    "chat.converse()"
   ]
  }
 ],
 "metadata": {
  "kernelspec": {
   "display_name": "Python 3 (ipykernel)",
   "language": "python",
   "name": "python3"
  },
  "language_info": {
   "codemirror_mode": {
    "name": "ipython",
    "version": 3
   },
   "file_extension": ".py",
   "mimetype": "text/x-python",
   "name": "python",
   "nbconvert_exporter": "python",
   "pygments_lexer": "ipython3",
   "version": "3.9.12"
  }
 },
 "nbformat": 4,
 "nbformat_minor": 5
}
